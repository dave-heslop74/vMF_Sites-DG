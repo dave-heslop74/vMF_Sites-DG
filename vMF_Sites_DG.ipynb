{
 "cells": [
  {
   "cell_type": "markdown",
   "metadata": {},
   "source": [
    "# Site & Pole Directional  Uncertainty - adapted for text file input\n",
    "#### Version1: 21/10/21\n",
    "## by D. Heslop (david.heslop@anu.edu.au) & A. P. Roberts\n",
    "\n",
    "**Heslop, D. & A. P. Roberts (2020). Uncertainty propagation for paleomagnetic directions, *Journal of Geophysical Research* (*Submitted*).**"
   ]
  },
  {
   "cell_type": "markdown",
   "metadata": {},
   "source": [
    "<hr style=\"height:2px;border:none;color:#333;background-color:#333;\" />\n",
    "\n",
    "## Site / Pole parameters - File format\n",
    "Create a comma-separated text file with the following columns (one row per specimen)\n",
    "1. **Dec [deg.]** - Declination (or pole longitude) in degrees [value between 0$^\\circ$ and 360$^\\circ$]. \n",
    "2. **Inc [deg.]** - Inclination (or pole latitude) in degrees [value between -90$^\\circ$ and +90$^\\circ$].\n",
    "3. **N** - Number of directions used in the mean (or pole) [value $>$1].\n",
    "4. **$\\alpha$95 [deg.]** - $\\alpha_{95}$ of mean (or pole) direction [value between 0$^\\circ$ and 90$^\\circ$].\n",
    "\n",
    "#### Your file should contain a single line header with the column names (see example1.csv)"
   ]
  },
  {
   "cell_type": "code",
   "execution_count": 17,
   "metadata": {},
   "outputs": [
    {
     "data": {
      "application/vnd.jupyter.widget-view+json": {
       "model_id": "3504626477454c7a9e3486b44e849e2d",
       "version_major": 2,
       "version_minor": 0
      },
      "text/plain": [
       "VBox(children=(HTML(value='<hr style=\"height:2px;border:none;color:#333;background-color:#333;\" />'), HTMLMath…"
      ]
     },
     "metadata": {},
     "output_type": "display_data"
    },
    {
     "data": {
      "application/vnd.jupyter.widget-view+json": {
       "model_id": "7428e37d317b415ba9c068fbe0a9a04d",
       "version_major": 2,
       "version_minor": 0
      },
      "text/plain": [
       "VBox(children=(HTML(value='<hr style=\"height:2px;border:none;color:#333;background-color:#333;\" />'), HTMLMath…"
      ]
     },
     "metadata": {},
     "output_type": "display_data"
    }
   ],
   "source": [
    "filename = 'example1.csv' #change this to your own filename\n",
    "import vMF_Sites_DG as si\n",
    "import numpy as np\n",
    "\n",
    "X = {}\n",
    "X['file'] = filename\n",
    "\n",
    "data = np.loadtxt(X['file'],delimiter=',',skiprows=1)\n",
    "pub = data[:,0]\n",
    "pub0 = np.unique(pub)\n",
    "\n",
    "for i in range(len(pub0)):\n",
    "    X = {}\n",
    "    X['file'] = filename\n",
    "    idx = pub==pub0[i]\n",
    "    X['idx'] = idx\n",
    "    X['pub'] = pub0[i]\n",
    "    X = si.process_data(X)"
   ]
  },
  {
   "cell_type": "code",
   "execution_count": null,
   "metadata": {},
   "outputs": [],
   "source": []
  }
 ],
 "metadata": {
  "kernelspec": {
   "display_name": "Python 3",
   "language": "python",
   "name": "python3"
  },
  "language_info": {
   "codemirror_mode": {
    "name": "ipython",
    "version": 3
   },
   "file_extension": ".py",
   "mimetype": "text/x-python",
   "name": "python",
   "nbconvert_exporter": "python",
   "pygments_lexer": "ipython3",
   "version": "3.6.6"
  }
 },
 "nbformat": 4,
 "nbformat_minor": 2
}
